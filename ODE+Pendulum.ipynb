{
 "cells": [
  {
   "cell_type": "markdown",
   "metadata": {
    "deletable": true,
    "editable": true
   },
   "source": [
    "# ODE Solve\n",
    "### scipy中有专门用于求解ode的函数odeint，下面的介绍主要改编自官方文献：https://docs.scipy.org/doc/scipy/reference/generated/scipy.integrate.odeint.html#scipy.integrate.odeint"
   ]
  },
  {
   "cell_type": "code",
   "execution_count": null,
   "metadata": {
    "collapsed": false,
    "deletable": true,
    "editable": true
   },
   "outputs": [],
   "source": [
    "import numpy as np\n",
    "import matplotlib as mpl\n",
    "import matplotlib.pyplot as plt\n",
    "from scipy.integrate import odeint"
   ]
  },
  {
   "cell_type": "code",
   "execution_count": null,
   "metadata": {
    "collapsed": true,
    "deletable": true,
    "editable": true
   },
   "outputs": [],
   "source": [
    "def pend(a, t, b, c):\n",
    "    theta, omega = a\n",
    "    dadt = [omega, -b*omega - c*np.sin(theta)]\n",
    "    return dadt\n",
    "#定义需要求解的方程，先手动化为一阶形式，注意自变量的顺序是：1待求解函数 2待求解函数的一阶导 3-n常数参数\n",
    "#需要求解的函数有多个时用列表表示。高阶导数可以通过这种方式降为一阶导\n",
    "#return待求解函数的导数"
   ]
  },
  {
   "cell_type": "code",
   "execution_count": null,
   "metadata": {
    "collapsed": false,
    "deletable": true,
    "editable": true
   },
   "outputs": [],
   "source": [
    "import sympy"
   ]
  },
  {
   "cell_type": "code",
   "execution_count": null,
   "metadata": {
    "collapsed": false,
    "deletable": true,
    "editable": true
   },
   "outputs": [],
   "source": [
    "b = 0.25\n",
    "c = 5.0\n",
    "\n",
    "a0 = [np.pi - 0.1, 0.0]\n",
    "\n",
    "t = np.linspace(0, 10, 101)\n",
    "\n",
    "sol = odeint(pend, a0, t, args=(b, c))\n",
    "#odeint是求解ode的函数，自变量中，pend是之前def好的待求解函数导数，y0是待求解函数的初始值，t是函数的自变量\n",
    "#args标记了之前def的pend有哪些自变量是常数参量\n",
    "#这里sol的维度是(101,2)，对应了2个求解的函数在101个时间点的取值"
   ]
  },
  {
   "cell_type": "code",
   "execution_count": null,
   "metadata": {
    "collapsed": false,
    "deletable": true,
    "editable": true,
    "scrolled": true
   },
   "outputs": [],
   "source": [
    "plt.plot(t, sol[:, 0], 'b', label='theta(t)')\n",
    "plt.plot(t, sol[:, 1], 'g', label='omega(t)')\n",
    "plt.legend(loc='best')\n",
    "plt.xlabel('t')\n",
    "plt.grid()\n",
    "plt.show()"
   ]
  },
  {
   "cell_type": "markdown",
   "metadata": {
    "deletable": true,
    "editable": true
   },
   "source": [
    "# Task 4"
   ]
  },
  {
   "cell_type": "markdown",
   "metadata": {
    "deletable": true,
    "editable": true
   },
   "source": [
    "### 了解了odeint函数的用法之后，我们来尝试求解双摆的运动方程。双摆的示意图：\n",
    "![](https://www.myphysicslab.com/pendulum/dbl_pendulum.gif)\n",
    "### 我们需要求解 theta1和theta2随时间的变化。方程可以参考 https://www.myphysicslab.com/pendulum/double-pendulum-en.html"
   ]
  },
  {
   "cell_type": "code",
   "execution_count": null,
   "metadata": {
    "collapsed": true,
    "deletable": true,
    "editable": true
   },
   "outputs": [],
   "source": [
    "def d_pend(y,t,L1,L2,m1,m2,g):\n",
    "    the1, o1, the2, o2 = y\n",
    "    dydt = np.zeros_like(y)\n",
    "    dydt[0] = o1\n",
    "    dydt[1] = (-g*(2*m1+m2)*np.sin(the1)-m2*g*np.sin(the1-2*the2)-2*np.sin(the1-the2)*m2*\n",
    "               (o2**2*L2+o1**2*L1*np.cos(the1-the2)))/(L1*(2*m1+m2-m2*np.cos(2*the1-2*the2)))\n",
    "    dydt[2] = o2\n",
    "    dydt[3] = 2*np.sin(the1-the2)*(o1**2*L1*(m1+m2)+g*(m1+m2)*np.cos(the1) +o2**2*L2*m2\n",
    "                                *np.cos(the1-the2))/(L2*(2*m1+m2-m2*np.cos(2*the1-2*the2)))\n",
    "    #自己完成运动方程\n",
    "    return dydt"
   ]
  },
  {
   "cell_type": "code",
   "execution_count": null,
   "metadata": {
    "collapsed": false,
    "deletable": true,
    "editable": true
   },
   "outputs": [],
   "source": [
    "L1 = 1\n",
    "L2 = 1\n",
    "m1 = 1\n",
    "m2 = 1\n",
    "g = 9.8\n",
    "#参数可以任意设置\n",
    "\n",
    "y0 = [1,0,0,0]#自己定义一个初始位置\n",
    "\n",
    "t = np.linspace(0, 20, 201)\n",
    "\n",
    "d_sol = odeint(d_pend, y0, t, args=(L1,L2,m1,m2,g))"
   ]
  },
  {
   "cell_type": "code",
   "execution_count": null,
   "metadata": {
    "collapsed": false,
    "deletable": true,
    "editable": true
   },
   "outputs": [],
   "source": [
    "#画出theta-t图\n",
    "plt.plot(t, d_sol[:, 0], 'b', label='theta1(t)')\n",
    "plt.plot(t, d_sol[:, 2], 'g', label='theta2(t)')\n",
    "plt.legend(loc='best')\n",
    "plt.xlabel('t')\n",
    "plt.grid()\n",
    "plt.show()"
   ]
  },
  {
   "cell_type": "markdown",
   "metadata": {
    "deletable": true,
    "editable": true
   },
   "source": [
    "### 下面用动画画出双摆的动态轨迹，可能遇到报错，参考解决方案： https://stackoverflow.com/questions/13316397/matplotlib-animation-no-moviewriters-available"
   ]
  },
  {
   "cell_type": "code",
   "execution_count": null,
   "metadata": {
    "collapsed": false,
    "deletable": true,
    "editable": true
   },
   "outputs": [],
   "source": [
    "import matplotlib.animation as animation\n",
    "\n",
    "x1 = L1*np.sin(d_sol[:, 0])\n",
    "y1 = -L1*np.cos(d_sol[:, 0])\n",
    "\n",
    "x2 = L2*np.sin(d_sol[:, 2]) + x1\n",
    "y2 = -L2*np.cos(d_sol[:, 2]) + y1\n",
    "\n",
    "def animate(i):\n",
    "    thisx = [0, x1[i], x2[i]]\n",
    "    thisy = [0, y1[i], y2[i]]\n",
    "\n",
    "    line.set_data(thisx, thisy)\n",
    "    time_text.set_text(time_template % (i*0.1))\n",
    "    return line, time_text\n",
    "\n",
    "fig = plt.figure()\n",
    "ax = fig.add_subplot(111, autoscale_on=False, xlim=(-2, 2), ylim=(-2, 2))\n",
    "ax.set_aspect('equal')\n",
    "ax.grid()\n",
    "#定义一个空的图像\n",
    "\n",
    "line, = ax.plot([], [], 'o-', lw=2)\n",
    "time_template = 'time = %.1fs'\n",
    "time_text = ax.text(0.05, 0.9, '', transform=ax.transAxes)\n",
    "#定义线条的样式和时间标签\n",
    "\n",
    "def init():\n",
    "    line.set_data([], [])\n",
    "    time_text.set_text('')\n",
    "    return line, time_text\n",
    "#初始状态\n",
    "\n",
    "ani = animation.FuncAnimation(fig, animate, np.arange(1, 200),\n",
    "                              interval=25, blit=True, init_func=init)\n",
    "\n",
    "ani.save('double_pendulum.mp4', fps=10)"
   ]
  },
  {
   "cell_type": "code",
   "execution_count": null,
   "metadata": {
    "collapsed": false,
    "deletable": true,
    "editable": true
   },
   "outputs": [],
   "source": [
    "import io\n",
    "import base64\n",
    "from IPython.display import HTML\n",
    "video = io.open('double_pendulum.mp4', 'r+b').read()\n",
    "#在这里读取刚才生成的视频，注意文件名与之前保存的视频相对应\n",
    "encoded = base64.b64encode(video)\n",
    "HTML(data='''<video width=\"500\" height=\"360\" controls>\n",
    "                <source src=\"data:video/mp4;base64,{0}\" type=\"video/mp4\" />\n",
    "             </video>'''.format(encoded.decode('ascii')))\n"
   ]
  },
  {
   "cell_type": "markdown",
   "metadata": {
    "deletable": true,
    "editable": true
   },
   "source": [
    "## 附加题：拉格朗日方程\n",
    "### 以下是双摆的拉格朗日方程求解代码，采用了sympy求解微分方程。熟悉以下代码后，列出拉格朗日方程后利用代码求解移动摆并画出轨迹。\n",
    "### 代码修改自：http://bigsec.net/b52/scipydoc/double_pendulum.html"
   ]
  },
  {
   "cell_type": "markdown",
   "metadata": {},
   "source": [
    "### 移动摆示意图\n",
    "![](http://d2vlcm61l7u1fs.cloudfront.net/media%2F798%2F798f3234-8edd-4ee0-a583-a3e9ee1dc88c%2FphpzJEV3u.png)"
   ]
  },
  {
   "cell_type": "code",
   "execution_count": null,
   "metadata": {
    "collapsed": true,
    "deletable": true,
    "editable": true
   },
   "outputs": [],
   "source": [
    "from sympy import *\n",
    "from sympy import Derivative as D"
   ]
  },
  {
   "cell_type": "code",
   "execution_count": null,
   "metadata": {
    "collapsed": false,
    "deletable": true,
    "editable": true
   },
   "outputs": [],
   "source": [
    "var(\"l_x1 l_x2 l_y1 l_y2 l1 l2 m1 m2 th1 th2 dth1 dth2 ddth1 ddth2 t g tmp\")\n",
    "\n",
    "sublist = [\n",
    "(D(th1(t), t, t), ddth1),\n",
    "(D(th1(t), t), dth1),\n",
    "(D(th2(t), t, t), ddth2),\n",
    "(D(th2(t),t), dth2),\n",
    "(th1(t), th1),\n",
    "(th2(t), th2)    \n",
    "]\n",
    "\n",
    "l_x1 = l1*sin(th1(t))\n",
    "l_y1 = -l1*cos(th1(t))\n",
    "l_x2 = l1*sin(th1(t)) + l2*sin(th2(t))\n",
    "l_y2 = -l1*cos(th1(t)) - l2*cos(th2(t))\n",
    "\n",
    "vx1 = diff(l_x1, t)\n",
    "vx2 = diff(l_x2, t)\n",
    "vy1 = diff(l_y1, t)\n",
    "vy2 = diff(l_y2, t)\n",
    "\n",
    "# 拉格朗日量\n",
    "L = m1/2*(vx1**2 + vy1**2) + m2/2*(vx2**2 + vy2**2) - m1*g*l_y1 - m2*g*l_y2\n",
    "\n",
    "# 拉格朗日方程\n",
    "def lagrange_equation(L, v):    \n",
    "    a = L.subs(D(v(t), t), tmp).diff(tmp).subs(tmp, D(v(t), t))\n",
    "    b = L.subs(D(v(t), t), tmp).subs(v(t), v).diff(v).subs(v, v(t)).subs(tmp, D(v(t), t))\n",
    "    c = a.diff(t) - b\n",
    "    c = c.subs(sublist)  \n",
    "    c = trigsimp(simplify(c))\n",
    "    c = collect(c, [th1,th2,dth1,dth2,ddth1,ddth2])\n",
    "    return c\n",
    "\n",
    "eq1 = lagrange_equation(L, th1)\n",
    "eq2 = lagrange_equation(L, th2)"
   ]
  },
  {
   "cell_type": "code",
   "execution_count": null,
   "metadata": {
    "collapsed": false,
    "deletable": true,
    "editable": true
   },
   "outputs": [],
   "source": [
    "from math import sin,cos\n",
    "import numpy as np\n",
    "from scipy.integrate import odeint\n",
    "\n",
    "g = 9.8\n",
    "\n",
    "class DoublePendulum(object):\n",
    "    def __init__(self, m1, m2, l1, l2):\n",
    "        self.m1, self.m2, self.l1, self.l2 = m1, m2, l1, l2\n",
    "        self.init_status = np.array([0.0,0.0,0.0,0.0])\n",
    "        \n",
    "    def equations(self, w, t):\n",
    "        \"\"\"\n",
    "        微分方程公式\n",
    "        \"\"\"\n",
    "        m1, m2, l1, l2 = self.m1, self.m2, self.l1, self.l2\n",
    "        th1, th2, v1, v2 = w\n",
    "        dth1 = v1\n",
    "        dth2 = v2\n",
    "        \n",
    "        #eq of th1\n",
    "        a = l1*l1*(m1+m2)  # dv1 parameter\n",
    "        b = l1*m2*l2*cos(th1-th2) # dv2 paramter\n",
    "        c = l1*(m2*l2*sin(th1-th2)*dth2*dth2 + (m1+m2)*g*sin(th1))\n",
    "        \n",
    "        #eq of th2\n",
    "        d = m2*l2*l1*cos(th1-th2) # dv1 parameter\n",
    "        e = m2*l2*l2 # dv2 parameter\n",
    "        f = m2*l2*(-l1*sin(th1-th2)*dth1*dth1 + g*sin(th2))\n",
    "        \n",
    "        dv1, dv2 = np.linalg.solve([[a,b],[d,e]], [-c,-f])\n",
    "        \n",
    "        return np.array([dth1, dth2, dv1, dv2])\n",
    "        \n",
    "def double_pendulum_odeint(pendulum, ts, te, tstep):\n",
    "    \"\"\"\n",
    "    对双摆系统的微分方程组进行数值求解，返回两个小球的X-Y坐标\n",
    "    \"\"\"\n",
    "    t = np.arange(ts, te, tstep)\n",
    "    track = odeint(pendulum.equations, pendulum.init_status, t)\n",
    "    th1_array, th2_array = track[:,0], track[:, 1]\n",
    "    l1, l2 = pendulum.l1, pendulum.l2\n",
    "    l_x1 = l1*np.sin(th1_array)\n",
    "    l_y1 = -l1*np.cos(th1_array)\n",
    "    l_x2 = l_x1 + l2*np.sin(th2_array)\n",
    "    l_y2 = l_y1 - l2*np.cos(th2_array)\n",
    "    pendulum.init_status = track[-1,:].copy() #将最后的状态赋给pendulum\n",
    "    return [l_x1, l_y1, l_x2, l_y2, th1_array, th2_array]\n",
    "\n",
    "if __name__ == \"__main__\":    \n",
    "    pendulum = DoublePendulum(1.0, 1.0, 1.0, 1.0) \n",
    "    th1, th2 = 1.0, 0.0\n",
    "    pendulum.init_status[:2] = th1, th2\n",
    "    l_x1, l_y1, l_x2, l_y2, th1_array, th2_array = double_pendulum_odeint(pendulum, 0, 20, 0.1)\n",
    "    fig = plt.close()\n",
    "    plt.plot(np.linspace(0, 20, 200), th1_array, 'b', label='theta1(t)')\n",
    "    plt.plot(np.linspace(0, 20, 200), th2_array, 'g', label='theta2(t)')\n",
    "    plt.legend(loc='best')\n",
    "    plt.xlabel('t')\n",
    "    plt.grid()\n",
    "    plt.show()"
   ]
  },
  {
   "cell_type": "code",
   "execution_count": null,
   "metadata": {
    "collapsed": false,
    "deletable": true,
    "editable": true
   },
   "outputs": [],
   "source": [
    "fig2 = plt.figure()\n",
    "ax = fig2.add_subplot(111, autoscale_on=False, xlim=(-2, 2), ylim=(-2, 2))\n",
    "ax.set_aspect('equal')\n",
    "ax.grid()\n",
    "\n",
    "line1, = ax.plot([], [], 'o-', lw=2)\n",
    "line2, = ax.plot([], [], '.-', lw=2)\n",
    "time_template = 'time = %.1fs'\n",
    "time_text = ax.text(0.05, 0.9, '', transform=ax.transAxes)\n",
    "\n",
    "def init():\n",
    "    line1.set_data([], [])\n",
    "    line2.set_data([], [])\n",
    "    time_text.set_text('')\n",
    "    return line1, line2, time_text\n",
    "\n",
    "def animate(i):\n",
    "    thisx = [0, x1[i], x2[i]]\n",
    "    thisy = [0, y1[i], y2[i]]\n",
    "    l_x = [0, l_x1[i], l_x2[i]]\n",
    "    l_y = [0, l_y1[i], l_y2[i]]\n",
    "\n",
    "    line1.set_data(thisx, thisy)\n",
    "    line2.set_data(l_x, l_y)\n",
    "    time_text.set_text(time_template % (i*0.1))\n",
    "    return line1, line2, time_text\n",
    "\n",
    "ani = animation.FuncAnimation(fig2, animate, np.arange(1, 200),\n",
    "                              interval=25, blit=True, init_func=init)\n",
    "\n",
    "ani.save('l_double_pendulum.mp4', fps=10)"
   ]
  },
  {
   "cell_type": "code",
   "execution_count": null,
   "metadata": {
    "collapsed": false,
    "deletable": true,
    "editable": true,
    "scrolled": true
   },
   "outputs": [],
   "source": [
    "video1 = io.open('l_double_pendulum.mp4', 'r+b').read()\n",
    "encoded1 = base64.b64encode(video1)\n",
    "HTML(data='''<video width=\"500\" height=\"360\" controls>\n",
    "                <source src=\"data:video/mp4;base64,{0}\" type=\"video/mp4\" />\n",
    "             </video>'''.format(encoded1.decode('ascii')))\n",
    "#初始条件相同时，可以看出两种颜色的线条运动轨迹完全相同，证明拉格朗日力学和牛顿力学的结果统一。"
   ]
  },
  {
   "cell_type": "markdown",
   "metadata": {
    "deletable": true,
    "editable": true
   },
   "source": [
    "#### 作者：赵桪乙"
   ]
  }
 ],
 "metadata": {
  "kernelspec": {
   "display_name": "Python 3",
   "language": "python",
   "name": "python3"
  },
  "language_info": {
   "codemirror_mode": {
    "name": "ipython",
    "version": 3
   },
   "file_extension": ".py",
   "mimetype": "text/x-python",
   "name": "python",
   "nbconvert_exporter": "python",
   "pygments_lexer": "ipython3",
   "version": "3.5.2"
  }
 },
 "nbformat": 4,
 "nbformat_minor": 2
}
