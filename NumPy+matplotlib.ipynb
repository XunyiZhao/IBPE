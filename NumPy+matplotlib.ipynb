{
 "cells": [
  {
   "cell_type": "markdown",
   "metadata": {
    "deletable": true,
    "editable": true
   },
   "source": [
    "# Python语法\n",
    "### Python的基本语法和其他语言类似，可以参考： https://morvanzhou.github.io/tutorials/python-basic/basic/\n",
    "### 不需要完全了解语法再开始写代码，一边写一边查是很好的自学方法。"
   ]
  },
  {
   "cell_type": "markdown",
   "metadata": {
    "deletable": true,
    "editable": true
   },
   "source": [
    "# NumPy教程\n",
    "### 官方教程\n",
    "### https://docs.scipy.org/doc/numpy-dev/user/quickstart.html"
   ]
  },
  {
   "cell_type": "code",
   "execution_count": null,
   "metadata": {
    "collapsed": false,
    "deletable": true,
    "editable": true
   },
   "outputs": [],
   "source": [
    "import numpy as np\n",
    "import matplotlib.pyplot as plt\n",
    "#python中每次使用一个库之前需要import导入这个库，之后用np代表numpy，pyt代表matpltlib中的函数pyplot"
   ]
  },
  {
   "cell_type": "code",
   "execution_count": null,
   "metadata": {
    "collapsed": false,
    "deletable": true,
    "editable": true
   },
   "outputs": [],
   "source": [
    "a = np.array([1, 2, 3])   # Create a rank 1 array\n",
    "#np是库的名称，array是库中的一个函数，[1,2,3]是函数需要的自变量。这一句命令就将a的定义成numpy中array函数自变量为[1,2,3]的结果。\n",
    "print(type(a))            # Prints \"<class 'numpy.ndarray'>\"\n",
    "#我们不止定义了a的取值，也定义了a的类型。a是numpy所定义的ndarray类型的变量。"
   ]
  },
  {
   "cell_type": "code",
   "execution_count": null,
   "metadata": {
    "collapsed": false,
    "deletable": true,
    "editable": true
   },
   "outputs": [],
   "source": [
    "print(a.shape)            # Prints \"(3,)\"\n",
    "#这种类型的变量有已经定义好的函数，比如shape函数就是用来输出a的矩阵维度\n",
    "print(a[0], a[1], a[2])   # Prints \"1 2 3\"\n",
    "a[0] = 5                  # Change an element of the array\n",
    "print(a)                  # Prints \"[5, 2, 3]\""
   ]
  },
  {
   "cell_type": "markdown",
   "metadata": {
    "deletable": true,
    "editable": true
   },
   "source": [
    "### 下面我们通过一个简单的矩阵了解线性代数的运算"
   ]
  },
  {
   "cell_type": "code",
   "execution_count": null,
   "metadata": {
    "collapsed": false,
    "deletable": true,
    "editable": true
   },
   "outputs": [],
   "source": [
    " a = np.array([[1.0, 2.0], [3.0, 4.0]])\n",
    "print(a)"
   ]
  },
  {
   "cell_type": "code",
   "execution_count": null,
   "metadata": {
    "collapsed": false,
    "deletable": true,
    "editable": true
   },
   "outputs": [],
   "source": [
    "a.transpose()\n",
    "#矩阵的转置，对于多维张量可以设定转置的维度。如果a是2维的矩阵，那么a.T可以实现相同的效果。"
   ]
  },
  {
   "cell_type": "code",
   "execution_count": null,
   "metadata": {
    "collapsed": false,
    "deletable": true,
    "editable": true
   },
   "outputs": [],
   "source": [
    "np.linalg.inv(a)\n",
    "#求矩阵的逆"
   ]
  },
  {
   "cell_type": "code",
   "execution_count": null,
   "metadata": {
    "collapsed": false,
    "deletable": true,
    "editable": true
   },
   "outputs": [],
   "source": [
    "u = np.eye(2)\n",
    "#eye代表“I”，即定义单位矩阵\n",
    "u"
   ]
  },
  {
   "cell_type": "markdown",
   "metadata": {
    "deletable": true,
    "editable": true
   },
   "source": [
    "# matplotlib 教程\n",
    "### 官方教程\n",
    "### https://matplotlib.org/tutorials/introductory/sample_plots.html\n",
    "### https://matplotlib.org/api/pyplot_summary.html"
   ]
  },
  {
   "cell_type": "code",
   "execution_count": null,
   "metadata": {
    "collapsed": false,
    "deletable": true,
    "editable": true
   },
   "outputs": [],
   "source": [
    "#首先我们创造两组数据，样本个数应相同。\n",
    "t = np.arange(0.0, 5.0, 0.1)#从0到5，每隔0.1取一个数\n",
    "s = np.random.random(size = 50)#生成50个（0，1）中的随机数\n",
    "\n",
    "print(t)\n",
    "print(s)"
   ]
  },
  {
   "cell_type": "code",
   "execution_count": null,
   "metadata": {
    "collapsed": false,
    "deletable": true,
    "editable": true
   },
   "outputs": [],
   "source": [
    "plt.plot(t, s, '.-')#t为横坐标，s为纵坐标，'.-' 要求画图时包含点和线\n",
    "plt.show()#上一条命令只是把图片生成，这条命令是将生成的图片显示出来"
   ]
  },
  {
   "cell_type": "markdown",
   "metadata": {
    "deletable": true,
    "editable": true
   },
   "source": [
    "### 看出这样绘制的图像是将(x,y)散点用直线连接起来。下面我们来看一下如何绘制函数的图像"
   ]
  },
  {
   "cell_type": "code",
   "execution_count": null,
   "metadata": {
    "collapsed": false,
    "deletable": true,
    "editable": true
   },
   "outputs": [],
   "source": [
    "y = np.sin(np.pi*t)\n",
    "#首先根据自变量生成另一组数据，y = sin(pi * x)\n",
    "\n",
    "plt.plot(t, y)\n",
    "plt.plot(t, s)\n",
    "\n",
    "plt.show()"
   ]
  },
  {
   "cell_type": "markdown",
   "metadata": {
    "deletable": true,
    "editable": true
   },
   "source": [
    "### 可以看出现在的蓝色曲线就是sin函数的图像。在Python中对某个函数的绘制其实就是利用函数关系生成足够多的点，然后直线连起来。注意现在两条曲线被画在同一张图里，下面我们尝试把他们分开。"
   ]
  },
  {
   "cell_type": "code",
   "execution_count": null,
   "metadata": {
    "collapsed": false,
    "deletable": true,
    "editable": true
   },
   "outputs": [],
   "source": [
    "f , (ax1, ax2) = plt.subplots(1, 2, sharey=True)\n",
    "#subplots函数定义了多张图片。自变量中，1代表一行，2代表两列，即两张图片排在同一行。sharey = True代表我们希望这两张图分享y坐标\n",
    "ax1.plot(t, s)\n",
    "ax2.plot(t, y)\n",
    "\n",
    "plt.show()"
   ]
  },
  {
   "cell_type": "markdown",
   "metadata": {
    "deletable": true,
    "editable": true
   },
   "source": [
    "# Task 1\n",
    "### 最小二乘法是误差处理时常用的方法。熟悉了矩阵操作之后，可以很容易地完成这一操作。下面定义了两组数据x和y，它们并不成绝对的线性关系，请通过最小二乘法绘制一条直线拟合这两组数据。"
   ]
  },
  {
   "cell_type": "code",
   "execution_count": null,
   "metadata": {
    "collapsed": false,
    "deletable": true,
    "editable": true,
    "scrolled": true
   },
   "outputs": [],
   "source": [
    "x = np.arange(0, 5, 0.1)\n",
    "r = np.random.RandomState(0)#生成一组随机数作为误差，0是随机种子，确保每次产生的随机数相同\n",
    "y = x * 1.0 + r.uniform(low = 0, high = 0.5, size = (50))\n",
    "print(x)\n",
    "print(y)"
   ]
  },
  {
   "cell_type": "code",
   "execution_count": null,
   "metadata": {
    "collapsed": false,
    "deletable": true,
    "editable": true
   },
   "outputs": [],
   "source": [
    "plt.plot(x,y)\n",
    "\n",
    "plt.show()"
   ]
  },
  {
   "cell_type": "markdown",
   "metadata": {
    "deletable": true,
    "editable": true
   },
   "source": [
    "### 我们希望用一条直线y=a*x+b 使 $$L= \\Sigma_i (y_i-ax_i-b)^2$$ 最小。自己推导出a,b的表达式之后，利用numpy矩阵计算求出a和b的值，再用matplotlib画出拟合直线的图像。注意Python的循环运算非常慢，尽量使用矩阵相乘的方法完成多个元素的求和。"
   ]
  },
  {
   "cell_type": "markdown",
   "metadata": {
    "deletable": true,
    "editable": true
   },
   "source": [
    "### 提示：取极值的时候有$$\\begin{cases}\\frac{\\partial L}{\\partial a}=0\\\\ \\frac{\\partial L}{\\partial b}=0\\end{cases}$$"
   ]
  },
  {
   "cell_type": "markdown",
   "metadata": {
    "deletable": true,
    "editable": true
   },
   "source": [
    "### 参考答案 a, b = 0.978793223551, 0.32093916064"
   ]
  },
  {
   "cell_type": "code",
   "execution_count": null,
   "metadata": {
    "collapsed": false,
    "deletable": true,
    "editable": true
   },
   "outputs": [],
   "source": [
    "#下面是直接利用拟合函数得到的结果\n",
    "from scipy.optimize import leastsq\n",
    "def error(p,x,y):\n",
    "    A, B = p\n",
    "    return A*x+B-y\n",
    "a0, b0 = leastsq(error,[1,0],args = (x,y))[0]\n",
    "\n",
    "print(a0,b0)"
   ]
  },
  {
   "cell_type": "markdown",
   "metadata": {
    "deletable": true,
    "editable": true
   },
   "source": [
    "### 注意求出的a和b并不是1和0，这说明在存在正态分布的误差时，有限的样本不能得到真实的函数关系。"
   ]
  },
  {
   "cell_type": "markdown",
   "metadata": {
    "collapsed": true,
    "deletable": true,
    "editable": true
   },
   "source": [
    "#### 作者：赵桪乙"
   ]
  }
 ],
 "metadata": {
  "kernelspec": {
   "display_name": "Python 3",
   "language": "python",
   "name": "python3"
  },
  "language_info": {
   "codemirror_mode": {
    "name": "ipython",
    "version": 3
   },
   "file_extension": ".py",
   "mimetype": "text/x-python",
   "name": "python",
   "nbconvert_exporter": "python",
   "pygments_lexer": "ipython3",
   "version": "3.5.2"
  }
 },
 "nbformat": 4,
 "nbformat_minor": 2
}
