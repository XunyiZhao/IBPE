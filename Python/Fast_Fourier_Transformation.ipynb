{
 "cells": [
  {
   "cell_type": "code",
   "execution_count": null,
   "metadata": {
    "collapsed": true,
    "deletable": true,
    "editable": true
   },
   "outputs": [],
   "source": [
    "import numpy as np\n",
    "\n",
    "from matplotlib.pyplot import plot, show"
   ]
  },
  {
   "cell_type": "markdown",
   "metadata": {
    "deletable": true,
    "editable": true
   },
   "source": [
    "## 单频率信号"
   ]
  },
  {
   "cell_type": "code",
   "execution_count": null,
   "metadata": {
    "collapsed": true,
    "deletable": true,
    "editable": true
   },
   "outputs": [],
   "source": [
    "sampling_rate = 2**14  # 取样速率\n",
    "fft_size = 2**12  # 傅里叶变换的区间长度"
   ]
  },
  {
   "cell_type": "code",
   "execution_count": null,
   "metadata": {
    "collapsed": true,
    "deletable": true,
    "editable": true
   },
   "outputs": [],
   "source": [
    "t = np.arange(0, 1, 1.0/sampling_rate)  # 时间点取样\n",
    "x = t*(10**3)  # 放缩，便于画图"
   ]
  },
  {
   "cell_type": "code",
   "execution_count": null,
   "metadata": {
    "collapsed": true,
    "deletable": true,
    "editable": true
   },
   "outputs": [],
   "source": [
    "y = np.sqrt(2)*np.sin(2*np.pi*1000*t)  # 主信号生成\n",
    "y = y + 0.05*np.random.normal(0.0, 1.0, len(y))  # 产生随机误差"
   ]
  },
  {
   "cell_type": "code",
   "execution_count": null,
   "metadata": {
    "collapsed": false,
    "deletable": true,
    "editable": true
   },
   "outputs": [],
   "source": [
    "plot(x[:400], y[:400])  # 取前400个点画图\n",
    "show()  # 展示画图"
   ]
  },
  {
   "cell_type": "code",
   "execution_count": null,
   "metadata": {
    "collapsed": true,
    "deletable": true,
    "editable": true
   },
   "outputs": [],
   "source": [
    "ys = y[:fft_size]  # 取定变换范围\n",
    "yf = np.fft.rfft(ys)/fft_size  # 傅里叶变换"
   ]
  },
  {
   "cell_type": "code",
   "execution_count": null,
   "metadata": {
    "collapsed": false,
    "deletable": true,
    "editable": true
   },
   "outputs": [],
   "source": [
    "freq = np.linspace(0, sampling_rate/2, 1 + fft_size/2)  # 产生频域\n",
    "freqs = freq/(10**3)  # 频域放缩\n",
    "# 无视红色warning，不影响结果输出"
   ]
  },
  {
   "cell_type": "code",
   "execution_count": null,
   "metadata": {
    "collapsed": true,
    "deletable": true,
    "editable": true
   },
   "outputs": [],
   "source": [
    "yfp = 20*np.log10(np.clip(np.abs(yf), 1e-20, 1e100))  # 转化成分贝图，便于观察主信号与噪声"
   ]
  },
  {
   "cell_type": "code",
   "execution_count": null,
   "metadata": {
    "collapsed": false,
    "deletable": true,
    "editable": true
   },
   "outputs": [],
   "source": [
    "plot(freq, yfp)  # 画图\n",
    "show()"
   ]
  },
  {
   "cell_type": "markdown",
   "metadata": {
    "deletable": true,
    "editable": true
   },
   "source": [
    "我们观察上图可以看出，在f=1000Hz时，信号强度最大，故信号来源应为1000Hz，其余均是随机误差/噪声。"
   ]
  },
  {
   "cell_type": "markdown",
   "metadata": {
    "deletable": true,
    "editable": true
   },
   "source": [
    "## 双频信号"
   ]
  },
  {
   "cell_type": "code",
   "execution_count": null,
   "metadata": {
    "collapsed": true,
    "deletable": true,
    "editable": true
   },
   "outputs": [],
   "source": [
    "s = np.sqrt(2)*np.sin(2*np.pi*1000*t) + np.sqrt(2)*np.sqrt(2)*np.sin(2*np.pi*4000*t)\n",
    "\n",
    "s = s + 0.005*np.random.normal(0.0,1.0,len(s))"
   ]
  },
  {
   "cell_type": "code",
   "execution_count": null,
   "metadata": {
    "collapsed": false,
    "deletable": true,
    "editable": true
   },
   "outputs": [],
   "source": [
    "plot(x[:400], s[:400])  # 取前400个点画图\n",
    "show()  # 展示画图"
   ]
  },
  {
   "cell_type": "code",
   "execution_count": null,
   "metadata": {
    "collapsed": false,
    "deletable": true,
    "editable": true
   },
   "outputs": [],
   "source": [
    "ss = s[:fft_size]  # 取定变换范围\n",
    "sf = np.fft.rfft(ss)/fft_size  #傅里叶变换\n",
    "freq = np.linspace(0, sampling_rate/2, 1 + fft_size/2)  # 产生频域\n",
    "freqs = freq/(10**3)  # 频域放缩\n",
    "sfp = 20*np.log10(np.clip(np.abs(sf), 1e-20, 1e100))  # 转化成分贝图，便于观察\n",
    "\n",
    "plot(freq, sfp)  # 画图\n",
    "show()"
   ]
  },
  {
   "cell_type": "markdown",
   "metadata": {
    "deletable": true,
    "editable": true
   },
   "source": [
    "在1000Hz与4000Hz处，有两个峰，那么信号为两个不同频率的叠加，其余均为噪声"
   ]
  },
  {
   "cell_type": "markdown",
   "metadata": {
    "deletable": true,
    "editable": true
   },
   "source": [
    "# Task 2\n",
    "\n",
    "### 对附件fft.csv的数据进行傅里叶变换，画出频域图，说明信号的主成分或者信号的表达式。"
   ]
  },
  {
   "cell_type": "markdown",
   "metadata": {
    "deletable": true,
    "editable": true
   },
   "source": [
    "## 附加题\n",
    "\n",
    "### 参考numpy官方文档 https://docs.scipy.org/doc/numpy/reference/routines.fft.html  自己生成二维信号序列，并二维fft,画出相应频域图。"
   ]
  },
  {
   "cell_type": "markdown",
   "metadata": {
    "deletable": true,
    "editable": true
   },
   "source": [
    "#### 作者：项德生"
   ]
  }
 ],
 "metadata": {
  "kernelspec": {
   "display_name": "Python 3",
   "language": "python",
   "name": "python3"
  },
  "language_info": {
   "codemirror_mode": {
    "name": "ipython",
    "version": 3
   },
   "file_extension": ".py",
   "mimetype": "text/x-python",
   "name": "python",
   "nbconvert_exporter": "python",
   "pygments_lexer": "ipython3",
   "version": "3.5.2"
  }
 },
 "nbformat": 4,
 "nbformat_minor": 2
}
