{
 "cells": [
  {
   "cell_type": "markdown",
   "metadata": {
    "deletable": true,
    "editable": true
   },
   "source": [
    "# Sympy——符号运算库"
   ]
  },
  {
   "cell_type": "code",
   "execution_count": null,
   "metadata": {
    "collapsed": true,
    "deletable": true,
    "editable": true
   },
   "outputs": [],
   "source": [
    "from sympy import *  # 导入sympy的全部内容"
   ]
  },
  {
   "cell_type": "code",
   "execution_count": null,
   "metadata": {
    "collapsed": true,
    "deletable": true,
    "editable": true
   },
   "outputs": [],
   "source": [
    "import sys\n",
    "oldhook = sys.displayhook\n",
    "sys.displayhook = pprint  # 这几行只是为了控制一下输出格式，直接print()的格式太滑稽了"
   ]
  },
  {
   "cell_type": "markdown",
   "metadata": {
    "deletable": true,
    "editable": true
   },
   "source": [
    "### 基本操作"
   ]
  },
  {
   "cell_type": "code",
   "execution_count": null,
   "metadata": {
    "collapsed": true,
    "deletable": true,
    "editable": true
   },
   "outputs": [],
   "source": [
    "x, y, z = symbols('x,y,z')  # 在SymPy中必须显式地声明符号变量\n",
    "\n",
    "a, b = symbols('b,a')  # 符号变量与变量不是一个概念\n",
    "\n",
    "i, n, m = symbols('i n m', integer=True)  # 声明变量时有一定的选项\n",
    "\n",
    "c = symbols('I_want_to_have_a_long_name')  # 变量命名是任意的\n",
    "\n",
    "syms = symbols('a0:5')  # 批量声明符号变量"
   ]
  },
  {
   "cell_type": "code",
   "execution_count": null,
   "metadata": {
    "collapsed": false,
    "deletable": true,
    "editable": true
   },
   "outputs": [],
   "source": [
    "expr = sqrt(x + 1.)  # 表达式的赋值\n",
    "\n",
    "expr.subs(x, y)  # subs(old, new)替换函数\n",
    "\n",
    "expr.subs(x, 2.)"
   ]
  },
  {
   "cell_type": "code",
   "execution_count": null,
   "metadata": {
    "collapsed": false,
    "deletable": true,
    "editable": true
   },
   "outputs": [],
   "source": [
    "another_expr = log(x*b)**sin(y/a)\n",
    "\n",
    "pi.evalf()  # evalf是计算表达式数值的函数，得到结果为浮点数类型\n",
    "\n",
    "another_expr.evalf(subs={x: 1., y: 2., a: 3., b: 4.})  # 多变量函数数值计算"
   ]
  },
  {
   "cell_type": "markdown",
   "metadata": {
    "deletable": true,
    "editable": true
   },
   "source": [
    "### 升级操作"
   ]
  },
  {
   "cell_type": "code",
   "execution_count": null,
   "metadata": {
    "collapsed": false,
    "deletable": true,
    "editable": true
   },
   "outputs": [],
   "source": [
    "simplify((x**3 + x**2 - x - 1)/(x**2 + 2*x + 1))  # 神奇的化简函数\n",
    "\n",
    "simplify(sin(x)**2 - cos(x)**2)\n",
    "\n",
    "simplify(log(x)+log(3*x))"
   ]
  },
  {
   "cell_type": "code",
   "execution_count": null,
   "metadata": {
    "collapsed": false,
    "deletable": true,
    "editable": true
   },
   "outputs": [],
   "source": [
    "expand((x+1)**2)  # 展开函数\n",
    "\n",
    "factor(x**2+2*x+1)  # 分解因式函数\n",
    "\n",
    "collect(x*y + x - 3 + 2*x**2 - z*x**2 + x**3, x)  # 按x合并同类项\n",
    "\n",
    "cancel(1/x + (3*x/2 - 2)/(x - 4))  # 约分函数\n",
    "\n",
    "apart(1/((x+2)*(x+1)), x)  # 不知道怎么表述好的函数= =\n",
    "\n",
    "together(1/x + 1/y + 1/z)  # 又一个不知道怎么描述好的函数= ="
   ]
  },
  {
   "cell_type": "markdown",
   "metadata": {
    "deletable": true,
    "editable": true
   },
   "source": [
    "### 花式操作"
   ]
  },
  {
   "cell_type": "code",
   "execution_count": null,
   "metadata": {
    "collapsed": false,
    "deletable": true,
    "editable": true
   },
   "outputs": [],
   "source": [
    "limit(sin(x)/x, x, 0)  # 取极限\n",
    "\n",
    "limit(1/x, x, oo)  # oo为极限符号"
   ]
  },
  {
   "cell_type": "code",
   "execution_count": null,
   "metadata": {
    "collapsed": false,
    "deletable": true,
    "editable": true
   },
   "outputs": [],
   "source": [
    "summation(2*i - 1, (i, 1, n))  # 求和函数\n",
    "\n",
    "summation(i, (i, 0, n), (n, 0, m))  # 多次求和"
   ]
  },
  {
   "cell_type": "code",
   "execution_count": null,
   "metadata": {
    "collapsed": false,
    "deletable": true,
    "editable": true
   },
   "outputs": [],
   "source": [
    "diff(sin(x), x)  # 微分操作\n",
    "\n",
    "diff(x**3, x, 2)  # 高阶微分操作\n",
    "\n",
    "diff(sin(x*y), x, x, y)  # 多元函数高阶微分"
   ]
  },
  {
   "cell_type": "code",
   "execution_count": null,
   "metadata": {
    "collapsed": false,
    "deletable": true,
    "editable": true
   },
   "outputs": [],
   "source": [
    "integrate(6*x**5, x)  # 不定积分\n",
    "\n",
    "integrate(x**3, (x, -1, 1))  # 定积分"
   ]
  },
  {
   "cell_type": "code",
   "execution_count": null,
   "metadata": {
    "collapsed": false,
    "deletable": true,
    "editable": true
   },
   "outputs": [],
   "source": [
    "cos(x).series(x, 0, 10)  # 级数展开"
   ]
  },
  {
   "cell_type": "code",
   "execution_count": null,
   "metadata": {
    "collapsed": false,
    "deletable": true,
    "editable": true
   },
   "outputs": [],
   "source": [
    "var = [x, y, z]  # 批量求导\n",
    "for k in var:\n",
    "    pprint(diff(x*cos(z)/exp(y), k))"
   ]
  },
  {
   "cell_type": "markdown",
   "metadata": {
    "deletable": true,
    "editable": true
   },
   "source": [
    "现在我们会用Sympy进行符号运算了，解决微积分作业是没啥问题了。\n",
    "\n",
    "我们来练习一下= ="
   ]
  },
  {
   "cell_type": "markdown",
   "metadata": {
    "deletable": true,
    "editable": true
   },
   "source": [
    "### Problem 1\n",
    "\n",
    "$$\\int^1_{-1}|1-x|dx$$"
   ]
  },
  {
   "cell_type": "code",
   "execution_count": null,
   "metadata": {
    "collapsed": true,
    "deletable": true,
    "editable": true
   },
   "outputs": [],
   "source": []
  },
  {
   "cell_type": "markdown",
   "metadata": {
    "deletable": true,
    "editable": true
   },
   "source": [
    "### Problem 2\n",
    "$$\\int^{\\frac{\\pi}{2}}_0 \\frac{cos x dx}{a^2 sin^2 x + b^2 cos^2 x} (a,b>0)$$"
   ]
  },
  {
   "cell_type": "code",
   "execution_count": null,
   "metadata": {
    "collapsed": true,
    "deletable": true,
    "editable": true
   },
   "outputs": [],
   "source": []
  },
  {
   "cell_type": "markdown",
   "metadata": {
    "deletable": true,
    "editable": true
   },
   "source": [
    "### Problem 3\n",
    "$$\\int^{2\\pi}_0 \\frac{dx}{1+\\theta cosx} (0<\\theta<1))$$"
   ]
  },
  {
   "cell_type": "code",
   "execution_count": null,
   "metadata": {
    "collapsed": true,
    "deletable": true,
    "editable": true
   },
   "outputs": [],
   "source": []
  },
  {
   "cell_type": "markdown",
   "metadata": {
    "deletable": true,
    "editable": true
   },
   "source": [
    "### Problem 4\n",
    "\n",
    "证明:\n",
    "$$\\sum^{+\\infty}_{k=1} \\frac{1}{k(k+1)(k+2)\\dots(k+m)} = \\frac{1}{m! m}$$"
   ]
  },
  {
   "cell_type": "code",
   "execution_count": null,
   "metadata": {
    "collapsed": true,
    "deletable": true,
    "editable": true
   },
   "outputs": [],
   "source": []
  },
  {
   "cell_type": "markdown",
   "metadata": {
    "deletable": true,
    "editable": true
   },
   "source": [
    "# Application"
   ]
  },
  {
   "cell_type": "markdown",
   "metadata": {
    "deletable": true,
    "editable": true
   },
   "source": [
    "下学期的物理实验，你们会接触到一个很恶心的东西叫做误差处理，用excel一点点算是会疯掉的，这里我们试图让其自动化处理。\n",
    "\n",
    "先介绍一点基础理论"
   ]
  },
  {
   "cell_type": "markdown",
   "metadata": {
    "deletable": true,
    "editable": true
   },
   "source": [
    "设一个间接测量量为y，他由n个互不相关的直接测量量$x_1,x_2,\\dots,x_n$通过函数关系f确定$$y=f(x_1,x_2,\\dots,x_n)$$\n",
    "\n",
    "我们在测量$x_i$时，与真实测量值$\\hat{x_i}$相差$u_{c}(x_i)$（往往由仪器精度或读数误差引起），即$$x_i = \\hat{x_i} + u_{c}(x_i)$$\n",
    "\n",
    "那么我们得到的的$y$与真实值的偏差为：$$U(y)= f(x_1,x_2,\\dots,x_i,\\dots,x_n)-f(x_1,x_2,\\dots,x_i - u_{c}(x_i),\\dots,x_n)$$\n",
    "\n",
    "通常取$U^2(y)$作为其不确定度的度量。$$U^2(y) = \\sum^n_{i=1}(\\frac{\\partial f}{\\partial x_i})^2 u^2_c(x_i)$$\n",
    "\n",
    "其中$u_c(x_i)=k \\sigma$,$\\sigma$为测量列的方差，k根据实验精度（和个人喜好）确定= =\n",
    "\n",
    "$$\\sigma^2 = \\frac{\\sum^m_{i=1}(x_i-\\bar{x})^2}{m-1}$$"
   ]
  },
  {
   "cell_type": "markdown",
   "metadata": {
    "deletable": true,
    "editable": true
   },
   "source": [
    "# Task 3\n",
    "我们考虑长度为l的柔软细线和直径为d的小球构成的简单单摆，不计入空气阻力时，使小球在平面内做小角度(小于5度)摆动，则单摆的周期为\n",
    "\n",
    "$$T=2\\pi \\sqrt{\\frac{2 l+d}{2 g}}$$\n",
    "\n",
    "实验数据见附件，k取1，求g的值与不确定度。\n",
    "\n",
    "要求：代码可运行，越短越好"
   ]
  },
  {
   "cell_type": "markdown",
   "metadata": {
    "collapsed": true,
    "deletable": true,
    "editable": true
   },
   "source": [
    "#### 作者：项德生"
   ]
  }
 ],
 "metadata": {
  "kernelspec": {
   "display_name": "Python 3",
   "language": "python",
   "name": "python3"
  },
  "language_info": {
   "codemirror_mode": {
    "name": "ipython",
    "version": 3
   },
   "file_extension": ".py",
   "mimetype": "text/x-python",
   "name": "python",
   "nbconvert_exporter": "python",
   "pygments_lexer": "ipython3",
   "version": "3.5.2"
  }
 },
 "nbformat": 4,
 "nbformat_minor": 2
}
